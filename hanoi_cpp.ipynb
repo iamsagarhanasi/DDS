{
  "nbformat": 4,
  "nbformat_minor": 0,
  "metadata": {
    "colab": {
      "provenance": [],
      "authorship_tag": "ABX9TyOTYkIIIb5mXa1DEkYF6dkg",
      "include_colab_link": true
    },
    "kernelspec": {
      "name": "python3",
      "display_name": "Python 3"
    },
    "language_info": {
      "name": "python"
    }
  },
  "cells": [
    {
      "cell_type": "markdown",
      "metadata": {
        "id": "view-in-github",
        "colab_type": "text"
      },
      "source": [
        "<a href=\"https://colab.research.google.com/github/iamsagarhanasi/DDS/blob/main/hanoi_cpp.ipynb\" target=\"_parent\"><img src=\"https://colab.research.google.com/assets/colab-badge.svg\" alt=\"Open In Colab\"/></a>"
      ]
    },
    {
      "cell_type": "code",
      "execution_count": null,
      "metadata": {
        "colab": {
          "base_uri": "https://localhost:8080/"
        },
        "id": "kdZIB1l6aR2j",
        "outputId": "5f68ce6a-880c-473f-e27e-b067b7001b7d"
      },
      "outputs": [
        {
          "output_type": "stream",
          "name": "stdout",
          "text": [
            "Overwriting hanoi.cpp\n"
          ]
        }
      ],
      "source": [
        "%%writefile hanoi.cpp\n",
        "#include<iostream>\n",
        "\n",
        "using namespace std;\n",
        "void hanoi(int n, char source,char destination,char auxiliary){\n",
        "    if(n==1)\n",
        "    {\n",
        "        cout<<\"Move disk 1 from\"<<source<<\"to\"<<destination<<endl;\n",
        "        return;\n",
        "    }\n",
        "    hanoi(n-1,source,auxiliary,destination);\n",
        "    cout<<\"Move disk \"<< n <<\" from\"<<source<<\"to\"<<destination<<endl;\n",
        "    hanoi(n-1,auxiliary,destination,source);\n",
        "\n",
        "}\n",
        "int main() {\n",
        "    int n =3;\n",
        "    cout<<\"Tower of Hanoi-steps for\"<<n<<\"disks:\"<<endl<<endl;\n",
        "    hanoi(n,'A','B','C');\n",
        "    return 0;\n",
        "}\n"
      ]
    },
    {
      "cell_type": "code",
      "source": [
        "!g++ hanoi.cpp"
      ],
      "metadata": {
        "id": "eh3kwC8fb4Zt"
      },
      "execution_count": null,
      "outputs": []
    },
    {
      "cell_type": "code",
      "source": [
        "!./a.out"
      ],
      "metadata": {
        "colab": {
          "base_uri": "https://localhost:8080/"
        },
        "id": "dLdUsnl5cmKc",
        "outputId": "70452277-707c-4719-9052-63dec50fe3a0"
      },
      "execution_count": null,
      "outputs": [
        {
          "output_type": "stream",
          "name": "stdout",
          "text": [
            "Tower of Hanoi-steps for3disks:\n",
            "\n",
            "Move disk 1 fromAtoB\n",
            "Move disk 2 fromAtoC\n",
            "Move disk 1 fromBtoC\n",
            "Move disk 3 fromAtoB\n",
            "Move disk 1 fromCtoA\n",
            "Move disk 2 fromCtoB\n",
            "Move disk 1 fromAtoB\n"
          ]
        }
      ]
    }
  ]
}