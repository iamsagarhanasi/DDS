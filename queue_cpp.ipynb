{
  "nbformat": 4,
  "nbformat_minor": 0,
  "metadata": {
    "colab": {
      "provenance": [],
      "authorship_tag": "ABX9TyNK6QLRG2kYaIOWP5uvUbzk",
      "include_colab_link": true
    },
    "kernelspec": {
      "name": "python3",
      "display_name": "Python 3"
    },
    "language_info": {
      "name": "python"
    }
  },
  "cells": [
    {
      "cell_type": "markdown",
      "metadata": {
        "id": "view-in-github",
        "colab_type": "text"
      },
      "source": [
        "<a href=\"https://colab.research.google.com/github/iamsagarhanasi/DDS/blob/main/queue_cpp.ipynb\" target=\"_parent\"><img src=\"https://colab.research.google.com/assets/colab-badge.svg\" alt=\"Open In Colab\"/></a>"
      ]
    },
    {
      "cell_type": "code",
      "execution_count": null,
      "metadata": {
        "colab": {
          "base_uri": "https://localhost:8080/"
        },
        "id": "8G39DdW5ivJn",
        "outputId": "60902773-d263-40b4-ae05-3ef35892e7b6"
      },
      "outputs": [
        {
          "output_type": "stream",
          "name": "stdout",
          "text": [
            "Overwriting queueimp.cpp\n"
          ]
        }
      ],
      "source": []
    },
    {
      "cell_type": "code",
      "source": [
        "%%writefile queue.cpp\n",
        "#include<iostream>\n",
        "#define SIZE 5\n",
        "using namespace std;\n",
        "\n",
        "class Queue {\n",
        "    int arr[SIZE], front, rear;\n",
        "public:\n",
        "    Queue() {\n",
        "        front = rear = -1;\n",
        "    }\n",
        "\n",
        "    void enqueue(int val) {\n",
        "        if ((rear + 1) % SIZE == front) {\n",
        "            cout << \"Queue Overflow\\n\";\n",
        "            return;\n",
        "        }\n",
        "        if (front == -1) front = 0;\n",
        "        rear = (rear + 1) % SIZE;\n",
        "        arr[rear] = val;\n",
        "    }\n",
        "\n",
        "    void dequeue() {\n",
        "        if (front == -1) {\n",
        "            cout << \"Queue Underflow\\n\";\n",
        "            return;\n",
        "        }\n",
        "        cout << \"Dequeued: \" << arr[front] << endl;\n",
        "        if (front == rear)\n",
        "            front = rear = -1;\n",
        "        else\n",
        "            front = (front + 1) % SIZE;\n",
        "    }\n",
        "\n",
        "    void traverse() {\n",
        "        if (front == -1) {\n",
        "            cout << \"Queue is empty\\n\";\n",
        "            return;\n",
        "        }\n",
        "        cout << \"Queue: \";\n",
        "        int i = front;\n",
        "        while (true) {\n",
        "            cout << arr[i] << \" \";\n",
        "            if (i == rear) break;\n",
        "            i = (i + 1) % SIZE;\n",
        "        }\n",
        "        cout << endl;\n",
        "    }\n",
        "\n",
        "    void search(int key) {\n",
        "        if (front == -1) {\n",
        "            cout << \"Queue is empty\\n\";\n",
        "            return;\n",
        "        }\n",
        "        int i = front;\n",
        "        while (true) {\n",
        "            if (arr[i] == key) {\n",
        "                cout << \"Element \" << key << \" found at index \" << i << endl;\n",
        "                return;\n",
        "            }\n",
        "            if (i == rear) break;\n",
        "            i = (i + 1) % SIZE;\n",
        "        }\n",
        "        cout << \"Element not found\\n\";\n",
        "    }\n",
        "};\n",
        "\n",
        "int main() {\n",
        "    Queue q;\n",
        "    q.enqueue(10);\n",
        "    q.enqueue(20);\n",
        "    q.enqueue(30);\n",
        "    q.traverse();\n",
        "    q.dequeue();\n",
        "    q.traverse();\n",
        "    q.search(20);\n",
        "    q.search(99);\n",
        "    return 0;\n",
        "}\n"
      ],
      "metadata": {
        "colab": {
          "base_uri": "https://localhost:8080/"
        },
        "id": "ktbiS4FWkSIm",
        "outputId": "63679058-ca26-45b4-eb4e-6293383c6d3d"
      },
      "execution_count": null,
      "outputs": [
        {
          "output_type": "stream",
          "name": "stdout",
          "text": [
            "Writing queue.cpp\n"
          ]
        }
      ]
    },
    {
      "cell_type": "code",
      "source": [
        "!g++ queue.cpp"
      ],
      "metadata": {
        "id": "pDxfaMY5mVG2"
      },
      "execution_count": null,
      "outputs": []
    },
    {
      "cell_type": "code",
      "source": [
        "!./a.out"
      ],
      "metadata": {
        "colab": {
          "base_uri": "https://localhost:8080/"
        },
        "id": "dqfAobNembfO",
        "outputId": "aea5b59a-f037-4795-9840-cb8014fccedb"
      },
      "execution_count": null,
      "outputs": [
        {
          "output_type": "stream",
          "name": "stdout",
          "text": [
            "Queue: 10 20 30 \n",
            "Dequeued: 10\n",
            "Queue: 20 30 \n",
            "Element 20 found at index 1\n",
            "Element not found\n"
          ]
        }
      ]
    }
  ]
}