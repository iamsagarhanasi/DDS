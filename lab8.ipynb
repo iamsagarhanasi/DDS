{
  "nbformat": 4,
  "nbformat_minor": 0,
  "metadata": {
    "colab": {
      "provenance": [],
      "include_colab_link": true
    },
    "kernelspec": {
      "name": "python3",
      "display_name": "Python 3"
    },
    "language_info": {
      "name": "python"
    }
  },
  "cells": [
    {
      "cell_type": "markdown",
      "metadata": {
        "id": "view-in-github",
        "colab_type": "text"
      },
      "source": [
        "<a href=\"https://colab.research.google.com/github/iamsagarhanasi/DDS/blob/main/lab8.ipynb\" target=\"_parent\"><img src=\"https://colab.research.google.com/assets/colab-badge.svg\" alt=\"Open In Colab\"/></a>"
      ]
    },
    {
      "cell_type": "markdown",
      "source": [
        "\n",
        "# 🧪 Lab 8: Binary Search and Interpolation Search\n",
        "\n",
        "## 🎯 Objectives\n",
        "- Implement **Binary Search** and **Interpolation Search**.\n",
        "- Compare their working principles and efficiency.\n",
        "\n",
        "---\n",
        "\n",
        "## 🔎 Binary Search\n",
        "- Works on **sorted arrays**.\n",
        "- Divide-and-conquer:\n",
        "  - Compare with mid element.\n",
        "  - Search left/right half.\n",
        "- Time Complexity: **O(log n)**.\n",
        "\n",
        "---\n",
        "\n",
        "## 📍 Interpolation Search\n",
        "- Works on **sorted, uniformly distributed arrays**.\n",
        "- Improves over Binary Search by estimating position:\n"
      ],
      "metadata": {
        "id": "-mksG2TWK7i3"
      }
    },
    {
      "cell_type": "markdown",
      "source": [
        "## python"
      ],
      "metadata": {
        "id": "dda_Os3VLI8u"
      }
    },
    {
      "cell_type": "code",
      "source": [
        "# -------- Binary Search --------\n",
        "def binary_search(arr, key):\n",
        "    low, high = 0, len(arr)-1\n",
        "    while low <= high:\n",
        "        mid = (low+high)//2\n",
        "        if arr[mid] == key:\n",
        "            return mid\n",
        "        elif arr[mid] < key:\n",
        "            low = mid+1\n",
        "        else:\n",
        "            high = mid-1\n",
        "    return -1\n",
        "\n",
        "# -------- Interpolation Search --------\n",
        "def interpolation_search(arr, key):\n",
        "    low, high = 0, len(arr)-1\n",
        "    while low <= high and arr[low] <= key <= arr[high]:\n",
        "        if low == high:\n",
        "            return low if arr[low] == key else -1\n",
        "        pos = low + ((key - arr[low])*(high-low)) // (arr[high]-arr[low])\n",
        "        if arr[pos] == key:\n",
        "            return pos\n",
        "        elif arr[pos] < key:\n",
        "            low = pos+1\n",
        "        else:\n",
        "            high = pos-1\n",
        "    return -1\n",
        "\n",
        "# ---- Demo ----\n",
        "arr = [10, 20, 30, 40, 50, 60, 70, 80, 90]\n",
        "print(\"Array:\", arr)\n",
        "print(\"Binary Search 50 → Index:\", binary_search(arr, 50))\n",
        "print(\"Interpolation Search 50 → Index:\", interpolation_search(arr, 50))\n",
        "print(\"Binary Search 25 → Index:\", binary_search(arr, 25))\n",
        "print(\"Interpolation Search 25 → Index:\", interpolation_search(arr, 25))\n"
      ],
      "metadata": {
        "id": "g4D-Q21fKOQI"
      },
      "execution_count": null,
      "outputs": []
    },
    {
      "cell_type": "markdown",
      "source": [
        "## C++"
      ],
      "metadata": {
        "id": "wj3Frm26LGxT"
      }
    },
    {
      "cell_type": "code",
      "source": [
        "%%writefile search_lab.cpp\n",
        "#include <bits/stdc++.h>\n",
        "using namespace std;\n",
        "\n",
        "int binarySearch(vector<int>& arr, int key){\n",
        "    int low=0, high=arr.size()-1;\n",
        "    while(low<=high){\n",
        "        int mid=(low+high)/2;\n",
        "        if(arr[mid]==key) return mid;\n",
        "        else if(arr[mid]<key) low=mid+1;\n",
        "        else high=mid-1;\n",
        "    }\n",
        "    return -1;\n",
        "}\n",
        "\n",
        "int interpolationSearch(vector<int>& arr, int key){\n",
        "    int low=0, high=arr.size()-1;\n",
        "    while(low<=high && key>=arr[low] && key<=arr[high]){\n",
        "        if(low==high) return (arr[low]==key)?low:-1;\n",
        "        int pos = low + (double)(key-arr[low])*(high-low)/(arr[high]-arr[low]);\n",
        "        if(arr[pos]==key) return pos;\n",
        "        else if(arr[pos]<key) low=pos+1;\n",
        "        else high=pos-1;\n",
        "    }\n",
        "    return -1;\n",
        "}\n",
        "\n",
        "int main(){\n",
        "    vector<int> arr={10,20,30,40,50,60,70,80,90};\n",
        "    cout<<\"Array: \"; for(int x:arr) cout<<x<<\" \"; cout<<\"\\n\";\n",
        "    cout<<\"Binary Search 50 → Index: \"<<binarySearch(arr,50)<<\"\\n\";\n",
        "    cout<<\"Interpolation Search 50 → Index: \"<<interpolationSearch(arr,50)<<\"\\n\";\n",
        "    cout<<\"Binary Search 25 → Index: \"<<binarySearch(arr,25)<<\"\\n\";\n",
        "    cout<<\"Interpolation Search 25 → Index: \"<<interpolationSearch(arr,25)<<\"\\n\";\n",
        "}\n"
      ],
      "metadata": {
        "id": "QAdANzBgLE_x"
      },
      "execution_count": null,
      "outputs": []
    },
    {
      "cell_type": "markdown",
      "source": [
        "## JAVA"
      ],
      "metadata": {
        "id": "2LicTBptLUT4"
      }
    },
    {
      "cell_type": "markdown",
      "source": [
        "##"
      ],
      "metadata": {
        "id": "SYEsdy1ZLTx8"
      }
    },
    {
      "cell_type": "code",
      "source": [
        "%%writefile SearchLab.java\n",
        "class SearchLab {\n",
        "    static int binarySearch(int[] arr, int key){\n",
        "        int low=0, high=arr.length-1;\n",
        "        while(low<=high){\n",
        "            int mid=(low+high)/2;\n",
        "            if(arr[mid]==key) return mid;\n",
        "            else if(arr[mid]<key) low=mid+1;\n",
        "            else high=mid-1;\n",
        "        }\n",
        "        return -1;\n",
        "    }\n",
        "\n",
        "    static int interpolationSearch(int[] arr, int key){\n",
        "        int low=0, high=arr.length-1;\n",
        "        while(low<=high && key>=arr[low] && key<=arr[high]){\n",
        "            if(low==high) return (arr[low]==key)?low:-1;\n",
        "            int pos = low + (int)((double)(key-arr[low])*(high-low)/(arr[high]-arr[low]));\n",
        "            if(arr[pos]==key) return pos;\n",
        "            else if(arr[pos]<key) low=pos+1;\n",
        "            else high=pos-1;\n",
        "        }\n",
        "        return -1;\n",
        "    }\n",
        "\n",
        "    public static void main(String[] args){\n",
        "        int[] arr={10,20,30,40,50,60,70,80,90};\n",
        "        System.out.print(\"Array: \");\n",
        "        for(int x:arr) System.out.print(x+\" \");\n",
        "        System.out.println();\n",
        "        System.out.println(\"Binary Search 50 → Index: \"+binarySearch(arr,50));\n",
        "        System.out.println(\"Interpolation Search 50 → Index: \"+interpolationSearch(arr,50));\n",
        "        System.out.println(\"Binary Search 25 → Index: \"+binarySearch(arr,25));\n",
        "        System.out.println(\"Interpolation Search 25 → Index: \"+interpolationSearch(arr,25));\n",
        "    }\n",
        "}\n"
      ],
      "metadata": {
        "id": "MB-yvAebLNdH"
      },
      "execution_count": null,
      "outputs": []
    },
    {
      "cell_type": "code",
      "source": [
        "!javac SearchLab.java && java SearchLab"
      ],
      "metadata": {
        "id": "4Rc6EbuAMijh"
      },
      "execution_count": null,
      "outputs": []
    },
    {
      "cell_type": "markdown",
      "source": [
        "## C"
      ],
      "metadata": {
        "id": "NF4gciJlNckL"
      }
    },
    {
      "cell_type": "code",
      "source": [
        "%%writefile search_lab.c\n",
        "#include <stdio.h>\n",
        "\n",
        "// -------- Binary Search --------\n",
        "int binarySearch(int arr[], int n, int key){\n",
        "    int low = 0, high = n - 1;\n",
        "    while(low <= high){\n",
        "        int mid = (low + high) / 2;\n",
        "        if(arr[mid] == key) return mid;\n",
        "        else if(arr[mid] < key) low = mid + 1;\n",
        "        else high = mid - 1;\n",
        "    }\n",
        "    return -1;\n",
        "}\n",
        "\n",
        "// -------- Interpolation Search --------\n",
        "int interpolationSearch(int arr[], int n, int key){\n",
        "    int low = 0, high = n - 1;\n",
        "    while(low <= high && key >= arr[low] && key <= arr[high]){\n",
        "        if(low == high){\n",
        "            if(arr[low] == key) return low;\n",
        "            return -1;\n",
        "        }\n",
        "        int pos = low + ((double)(key - arr[low]) * (high - low)) / (arr[high] - arr[low]);\n",
        "        if(arr[pos] == key) return pos;\n",
        "        else if(arr[pos] < key) low = pos + 1;\n",
        "        else high = pos - 1;\n",
        "    }\n",
        "    return -1;\n",
        "}\n",
        "\n",
        "int main(){\n",
        "    int arr[] = {10,20,30,40,50,60,70,80,90};\n",
        "    int n = sizeof(arr)/sizeof(arr[0]);\n",
        "\n",
        "    printf(\"Array: \");\n",
        "    for(int i=0;i<n;i++) printf(\"%d \", arr[i]);\n",
        "    printf(\"\\n\");\n",
        "\n",
        "    int key1 = 50, key2 = 25;\n",
        "    printf(\"Binary Search %d → Index: %d\\n\", key1, binarySearch(arr,n,key1));\n",
        "    printf(\"Interpolation Search %d → Index: %d\\n\", key1, interpolationSearch(arr,n,key1));\n",
        "\n",
        "    printf(\"Binary Search %d → Index: %d\\n\", key2, binarySearch(arr,n,key2));\n",
        "    printf(\"Interpolation Search %d → Index: %d\\n\", key2, interpolationSearch(arr,n,key2));\n",
        "\n",
        "    return 0;\n",
        "}\n"
      ],
      "metadata": {
        "id": "0TwRhf6pNWeU"
      },
      "execution_count": null,
      "outputs": []
    },
    {
      "cell_type": "code",
      "source": [
        "!gcc search_lab.c -o search_lab_c && ./search_lab_c\n"
      ],
      "metadata": {
        "id": "Ayn7pa70NZhU"
      },
      "execution_count": null,
      "outputs": []
    },
    {
      "cell_type": "markdown",
      "source": [
        "## 📌 Summary\n",
        "- **Binary Search**: works on sorted arrays, O(log n).  \n",
        "- **Interpolation Search**: faster on uniformly distributed arrays, best O(log log n), worst O(n).  \n",
        "- Both require sorted input.  \n",
        "\n",
        "## ✅ Viva Questions\n",
        "1. Why must the array be sorted for Binary Search?  \n",
        "2. When is Interpolation Search faster than Binary Search?  \n",
        "3. What happens if the array is not uniformly distributed in Interpolation Search?  \n",
        "4. Compare worst-case complexity of Binary vs Interpolation Search.  \n",
        "5. Can these algorithms work on linked lists? Why/Why not?\n"
      ],
      "metadata": {
        "id": "VZ_bjZbQMgx6"
      }
    }
  ]
}