{
  "nbformat": 4,
  "nbformat_minor": 0,
  "metadata": {
    "colab": {
      "provenance": [],
      "include_colab_link": true
    },
    "kernelspec": {
      "name": "python3",
      "display_name": "Python 3"
    },
    "language_info": {
      "name": "python"
    }
  },
  "cells": [
    {
      "cell_type": "markdown",
      "metadata": {
        "id": "view-in-github",
        "colab_type": "text"
      },
      "source": [
        "<a href=\"https://colab.research.google.com/github/iamsagarhanasi/DDS/blob/main/lab9.ipynb\" target=\"_parent\"><img src=\"https://colab.research.google.com/assets/colab-badge.svg\" alt=\"Open In Colab\"/></a>"
      ]
    },
    {
      "cell_type": "markdown",
      "source": [
        "# 🧪 Lab 9: Sorting Algorithms\n",
        "\n",
        "## 🎯 Objectives\n",
        "- Implement and compare **Bubble Sort, Selection Sort, Insertion Sort, Quick Sort, and Merge Sort**.\n",
        "- Understand their **time complexities** and behavior.\n",
        "\n",
        "---\n",
        "\n",
        "## 🔑 Algorithms Overview\n",
        "\n",
        "1. **Bubble Sort**\n",
        "   - Repeatedly swap adjacent elements if out of order.\n",
        "   - Best O(n), Worst O(n²).\n",
        "\n",
        "2. **Selection Sort**\n",
        "   - Find min element and place it at correct position.\n",
        "   - Always O(n²).\n",
        "\n",
        "3. **Insertion Sort**\n",
        "   - Insert elements into a sorted sublist.\n",
        "   - Best O(n), Worst O(n²).\n",
        "\n",
        "4. **Quick Sort**\n",
        "   - Divide-and-conquer, choose pivot, partition.\n",
        "   - Avg O(n log n), Worst O(n²).\n",
        "\n",
        "5. **Merge Sort**\n",
        "   - Divide array, sort halves, merge.\n",
        "   - Always O(n log n), extra O(n) space.\n"
      ],
      "metadata": {
        "id": "MAbUifxSNzgv"
      }
    },
    {
      "cell_type": "markdown",
      "source": [
        "## python\n"
      ],
      "metadata": {
        "id": "KOqnkSTTN1ua"
      }
    },
    {
      "cell_type": "code",
      "source": [
        "# -------- Bubble Sort --------\n",
        "def bubble_sort(arr):\n",
        "    a = arr.copy()\n",
        "    n=len(a)\n",
        "    for i in range(n):\n",
        "        for j in range(0,n-i-1):\n",
        "            if a[j]>a[j+1]:\n",
        "                a[j],a[j+1]=a[j+1],a[j]\n",
        "    return a\n",
        "\n",
        "# -------- Selection Sort --------\n",
        "def selection_sort(arr):\n",
        "    a=arr.copy(); n=len(a)\n",
        "    for i in range(n):\n",
        "        min_idx=i\n",
        "        for j in range(i+1,n):\n",
        "            if a[j]<a[min_idx]: min_idx=j\n",
        "        a[i],a[min_idx]=a[min_idx],a[i]\n",
        "    return a\n",
        "\n",
        "# -------- Insertion Sort --------\n",
        "def insertion_sort(arr):\n",
        "    a=arr.copy()\n",
        "    for i in range(1,len(a)):\n",
        "        key=a[i]; j=i-1\n",
        "        while j>=0 and a[j]>key:\n",
        "            a[j+1]=a[j]; j-=1\n",
        "        a[j+1]=key\n",
        "    return a\n",
        "\n",
        "# -------- Quick Sort --------\n",
        "def quick_sort(arr):\n",
        "    if len(arr)<=1: return arr\n",
        "    pivot=arr[len(arr)//2]\n",
        "    left=[x for x in arr if x<pivot]\n",
        "    mid=[x for x in arr if x==pivot]\n",
        "    right=[x for x in arr if x>pivot]\n",
        "    return quick_sort(left)+mid+quick_sort(right)\n",
        "\n",
        "# -------- Merge Sort --------\n",
        "def merge_sort(arr):\n",
        "    if len(arr)<=1: return arr\n",
        "    mid=len(arr)//2\n",
        "    L=merge_sort(arr[:mid])\n",
        "    R=merge_sort(arr[mid:])\n",
        "    return merge(L,R)\n",
        "\n",
        "def merge(L,R):\n",
        "    result=[]; i=j=0\n",
        "    while i<len(L) and j<len(R):\n",
        "        if L[i]<R[j]: result.append(L[i]); i+=1\n",
        "        else: result.append(R[j]); j+=1\n",
        "    result.extend(L[i:]); result.extend(R[j:])\n",
        "    return result\n",
        "\n",
        "# ---- Demo ----\n",
        "arr=[64,34,25,12,22,11,90]\n",
        "print(\"Original:\",arr)\n",
        "print(\"Bubble:\",bubble_sort(arr))\n",
        "print(\"Selection:\",selection_sort(arr))\n",
        "print(\"Insertion:\",insertion_sort(arr))\n",
        "print(\"Quick:\",quick_sort(arr))\n",
        "print(\"Merge:\",merge_sort(arr))\n"
      ],
      "metadata": {
        "id": "z0eil6-gN3bK"
      },
      "execution_count": null,
      "outputs": []
    },
    {
      "cell_type": "markdown",
      "source": [
        "## C"
      ],
      "metadata": {
        "id": "4J8BIKeTN6HA"
      }
    },
    {
      "cell_type": "code",
      "source": [
        "%%writefile sort_lab.c\n",
        "#include <stdio.h>\n",
        "\n",
        "void swap(int *a,int *b){ int t=*a; *a=*b; *b=t; }\n",
        "\n",
        "void bubble(int arr[],int n){\n",
        "    for(int i=0;i<n-1;i++)\n",
        "        for(int j=0;j<n-i-1;j++)\n",
        "            if(arr[j]>arr[j+1]) swap(&arr[j],&arr[j+1]);\n",
        "}\n",
        "\n",
        "void selection(int arr[],int n){\n",
        "    for(int i=0;i<n-1;i++){\n",
        "        int min=i;\n",
        "        for(int j=i+1;j<n;j++) if(arr[j]<arr[min]) min=j;\n",
        "        swap(&arr[i],&arr[min]);\n",
        "    }\n",
        "}\n",
        "\n",
        "void insertion(int arr[],int n){\n",
        "    for(int i=1;i<n;i++){\n",
        "        int key=arr[i],j=i-1;\n",
        "        while(j>=0 && arr[j]>key){ arr[j+1]=arr[j]; j--; }\n",
        "        arr[j+1]=key;\n",
        "    }\n",
        "}\n",
        "\n",
        "int partition(int arr[],int low,int high){\n",
        "    int pivot=arr[high],i=low-1;\n",
        "    for(int j=low;j<high;j++){\n",
        "        if(arr[j]<pivot){ i++; swap(&arr[i],&arr[j]); }\n",
        "    }\n",
        "    swap(&arr[i+1],&arr[high]); return i+1;\n",
        "}\n",
        "\n",
        "void quick(int arr[],int low,int high){\n",
        "    if(low<high){\n",
        "        int pi=partition(arr,low,high);\n",
        "        quick(arr,low,pi-1); quick(arr,pi+1,high);\n",
        "    }\n",
        "}\n",
        "\n",
        "void merge(int arr[],int l,int m,int r){\n",
        "    int n1=m-l+1,n2=r-m,L[n1],R[n2];\n",
        "    for(int i=0;i<n1;i++) L[i]=arr[l+i];\n",
        "    for(int j=0;j<n2;j++) R[j]=arr[m+1+j];\n",
        "    int i=0,j=0,k=l;\n",
        "    while(i<n1 && j<n2){\n",
        "        if(L[i]<=R[j]) arr[k++]=L[i++];\n",
        "        else arr[k++]=R[j++];\n",
        "    }\n",
        "    while(i<n1) arr[k++]=L[i++];\n",
        "    while(j<n2) arr[k++]=R[j++];\n",
        "}\n",
        "\n",
        "void mergeSort(int arr[],int l,int r){\n",
        "    if(l<r){\n",
        "        int m=(l+r)/2;\n",
        "        mergeSort(arr,l,m);\n",
        "        mergeSort(arr,m+1,r);\n",
        "        merge(arr,l,m,r);\n",
        "    }\n",
        "}\n",
        "\n",
        "void printArr(int arr[],int n){\n",
        "    for(int i=0;i<n;i++) printf(\"%d \",arr[i]);\n",
        "    printf(\"\\n\");\n",
        "}\n",
        "\n",
        "int main(){\n",
        "    int arr[]={64,34,25,12,22,11,90};\n",
        "    int n=sizeof(arr)/sizeof(arr[0]);\n",
        "    int temp[n];\n",
        "\n",
        "    // Bubble\n",
        "    for(int i=0;i<n;i++) temp[i]=arr[i];\n",
        "    bubble(temp,n); printf(\"Bubble: \"); printArr(temp,n);\n",
        "\n",
        "    // Selection\n",
        "    for(int i=0;i<n;i++) temp[i]=arr[i];\n",
        "    selection(temp,n); printf(\"Selection: \"); printArr(temp,n);\n",
        "\n",
        "    // Insertion\n",
        "    for(int i=0;i<n;i++) temp[i]=arr[i];\n",
        "    insertion(temp,n); printf(\"Insertion: \"); printArr(temp,n);\n",
        "\n",
        "    // Quick\n",
        "    for(int i=0;i<n;i++) temp[i]=arr[i];\n",
        "    quick(temp,0,n-1); printf(\"Quick: \"); printArr(temp,n);\n",
        "\n",
        "    // Merge\n",
        "    for(int i=0;i<n;i++) temp[i]=arr[i];\n",
        "    mergeSort(temp,0,n-1); printf(\"Merge: \"); printArr(temp,n);\n",
        "\n",
        "    return 0;\n",
        "}\n"
      ],
      "metadata": {
        "id": "racYwYjON7c6"
      },
      "execution_count": null,
      "outputs": []
    },
    {
      "cell_type": "markdown",
      "source": [
        "## C++"
      ],
      "metadata": {
        "id": "jRrlEv1-N96v"
      }
    },
    {
      "cell_type": "code",
      "source": [
        "%%writefile sort_lab.cpp\n",
        "#include <bits/stdc++.h>\n",
        "using namespace std;\n",
        "\n",
        "void bubble(vector<int>& a){\n",
        "    int n=a.size();\n",
        "    for(int i=0;i<n-1;i++)\n",
        "        for(int j=0;j<n-i-1;j++)\n",
        "            if(a[j]>a[j+1]) swap(a[j],a[j+1]);\n",
        "}\n",
        "void selection(vector<int>& a){\n",
        "    int n=a.size();\n",
        "    for(int i=0;i<n-1;i++){\n",
        "        int min=i;\n",
        "        for(int j=i+1;j<n;j++) if(a[j]<a[min]) min=j;\n",
        "        swap(a[i],a[min]);\n",
        "    }\n",
        "}\n",
        "void insertion(vector<int>& a){\n",
        "    int n=a.size();\n",
        "    for(int i=1;i<n;i++){\n",
        "        int key=a[i],j=i-1;\n",
        "        while(j>=0 && a[j]>key){ a[j+1]=a[j]; j--; }\n",
        "        a[j+1]=key;\n",
        "    }\n",
        "}\n",
        "int partition(vector<int>& a,int l,int r){\n",
        "    int pivot=a[r],i=l-1;\n",
        "    for(int j=l;j<r;j++) if(a[j]<pivot) swap(a[++i],a[j]);\n",
        "    swap(a[i+1],a[r]); return i+1;\n",
        "}\n",
        "void quick(vector<int>& a,int l,int r){\n",
        "    if(l<r){ int pi=partition(a,l,r); quick(a,l,pi-1); quick(a,pi+1,r); }\n",
        "}\n",
        "void merge(vector<int>& a,int l,int m,int r){\n",
        "    vector<int> L(a.begin()+l,a.begin()+m+1), R(a.begin()+m+1,a.begin()+r+1);\n",
        "    int i=0,j=0,k=l;\n",
        "    while(i<L.size() && j<R.size()) a[k++]=(L[i]<=R[j]?L[i++]:R[j++]);\n",
        "    while(i<L.size()) a[k++]=L[i++];\n",
        "    while(j<R.size()) a[k++]=R[j++];\n",
        "}\n",
        "void mergeSort(vector<int>& a,int l,int r){\n",
        "    if(l<r){ int m=(l+r)/2; mergeSort(a,l,m); mergeSort(a,m+1,r); merge(a,l,m,r); }\n",
        "}\n",
        "void print(vector<int>& a){ for(int x:a) cout<<x<<\" \"; cout<<\"\\n\"; }\n",
        "\n",
        "int main(){\n",
        "    vector<int> arr={64,34,25,12,22,11,90};\n",
        "    vector<int> t;\n",
        "\n",
        "    t=arr; bubble(t); cout<<\"Bubble: \"; print(t);\n",
        "    t=arr; selection(t); cout<<\"Selection: \"; print(t);\n",
        "    t=arr; insertion(t); cout<<\"Insertion: \"; print(t);\n",
        "    t=arr; quick(t,0,t.size()-1); cout<<\"Quick: \"; print(t);\n",
        "    t=arr; mergeSort(t,0,t.size()-1); cout<<\"Merge: \"; print(t);\n",
        "}\n"
      ],
      "metadata": {
        "id": "rBXoz3PSOCuF"
      },
      "execution_count": null,
      "outputs": []
    },
    {
      "cell_type": "code",
      "source": [
        "!g++ sort_lab.cpp -o sort_lab_cpp && ./sort_lab_cpp\n"
      ],
      "metadata": {
        "id": "sAo5t-9XOHRG"
      },
      "execution_count": null,
      "outputs": []
    },
    {
      "cell_type": "markdown",
      "source": [
        "## JAVA"
      ],
      "metadata": {
        "id": "7B694aqbOIgb"
      }
    },
    {
      "cell_type": "code",
      "source": [
        "%%writefile SortLab.java\n",
        "import java.util.*;\n",
        "\n",
        "class SortLab {\n",
        "    static void bubble(int[] a){\n",
        "        for(int i=0;i<a.length-1;i++)\n",
        "            for(int j=0;j<a.length-i-1;j++)\n",
        "                if(a[j]>a[j+1]){ int t=a[j]; a[j]=a[j+1]; a[j+1]=t; }\n",
        "    }\n",
        "    static void selection(int[] a){\n",
        "        for(int i=0;i<a.length-1;i++){\n",
        "            int min=i;\n",
        "            for(int j=i+1;j<a.length;j++) if(a[j]<a[min]) min=j;\n",
        "            int t=a[i]; a[i]=a[min]; a[min]=t;\n",
        "        }\n",
        "    }\n",
        "    static void insertion(int[] a){\n",
        "        for(int i=1;i<a.length;i++){\n",
        "            int key=a[i],j=i-1;\n",
        "            while(j>=0 && a[j]>key){ a[j+1]=a[j]; j--; }\n",
        "            a[j+1]=key;\n",
        "        }\n",
        "    }\n",
        "    static int partition(int[] a,int l,int r){\n",
        "        int pivot=a[r],i=l-1;\n",
        "        for(int j=l;j<r;j++) if(a[j]<pivot){ i++; int t=a[i]; a[i]=a[j]; a[j]=t; }\n",
        "        int t=a[i+1]; a[i+1]=a[r]; a[r]=t;\n",
        "        return i+1;\n",
        "    }\n",
        "    static void quick(int[] a,int l,int r){\n",
        "        if(l<r){ int pi=partition(a,l,r); quick(a,l,pi-1); quick(a,pi+1,r); }\n",
        "    }\n",
        "    static void merge(int[] a,int l,int m,int r){\n",
        "        int n1=m-l+1,n2=r-m;\n",
        "        int[] L=new int[n1],R=new int[n2];\n",
        "        for(int i=0;i<n1;i++) L[i]=a[l+i];\n",
        "        for(int j=0;j<n2;j++) R[j]=a[m+1+j];\n",
        "        int i=0,j=0,k=l;\n",
        "        while(i<n1 && j<n2) a[k++]=(L[i]<=R[j]?L[i++]:R[j++]);\n",
        "        while(i<n1) a[k++]=L[i++];\n",
        "        while(j<n2) a[k++]=R[j++];\n",
        "    }\n",
        "    static void mergeSort(int[] a,int l,int r){\n",
        "        if(l<r){ int m=(l+r)/2; mergeSort(a,l,m); mergeSort(a,m+1,r); merge(a,l,m,r); }\n",
        "    }\n",
        "\n",
        "    static void print(int[] a){ for(int x:a) System.out.print(x+\" \"); System.out.println(); }\n",
        "\n",
        "    public static void main(String[] args){\n",
        "        int[] arr={64,34,25,12,22,11,90};\n",
        "        int[] t;\n",
        "\n",
        "        t=arr.clone(); bubble(t); System.out.print(\"Bubble: \"); print(t);\n",
        "        t=arr.clone(); selection(t); System.out.print(\"Selection: \"); print(t);\n",
        "        t=arr.clone(); insertion(t); System.out.print(\"Insertion: \"); print(t);\n",
        "        t=arr.clone(); quick(t,0,t.length-1); System.out.print(\"Quick: \"); print(t);\n",
        "        t=arr.clone(); mergeSort(t,0,t.length-1); System.out.print(\"Merge: \"); print(t);\n",
        "    }\n",
        "}\n"
      ],
      "metadata": {
        "id": "VaNIvzXqOKSz"
      },
      "execution_count": null,
      "outputs": []
    },
    {
      "cell_type": "code",
      "source": [
        "!javac SortLab.java && java SortLab\n"
      ],
      "metadata": {
        "id": "Z9_p2_BVOMy2"
      },
      "execution_count": null,
      "outputs": []
    },
    {
      "cell_type": "markdown",
      "source": [
        "## 📌 Summary\n",
        "- Bubble, Selection, Insertion → **simple but O(n²)**.  \n",
        "- Quick Sort → Avg O(n log n), in-place, very fast.  \n",
        "- Merge Sort → Always O(n log n), stable, extra space.  \n",
        "\n",
        "## ✅ Viva Questions\n",
        "1. Which sorting algorithms are **stable**?  \n",
        "2. Which algorithm is best for nearly sorted arrays?  \n",
        "3. Why is Quick Sort faster in practice than Merge Sort?  \n",
        "4. What is the worst-case of Quick Sort? How to avoid it?  \n",
        "5. Compare **space complexity** of Merge Sort vs Quick Sort.\n"
      ],
      "metadata": {
        "id": "dWwYe5KcORGj"
      }
    }
  ]
}