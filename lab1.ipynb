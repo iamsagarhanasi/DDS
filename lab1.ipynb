{
  "nbformat": 4,
  "nbformat_minor": 0,
  "metadata": {
    "colab": {
      "provenance": [],
      "include_colab_link": true
    },
    "kernelspec": {
      "name": "python3",
      "display_name": "Python 3"
    },
    "language_info": {
      "name": "python"
    }
  },
  "cells": [
    {
      "cell_type": "markdown",
      "metadata": {
        "id": "view-in-github",
        "colab_type": "text"
      },
      "source": [
        "<a href=\"https://colab.research.google.com/github/iamsagarhanasi/DDS/blob/main/lab1.ipynb\" target=\"_parent\"><img src=\"https://colab.research.google.com/assets/colab-badge.svg\" alt=\"Open In Colab\"/></a>"
      ]
    },
    {
      "cell_type": "markdown",
      "source": [
        "# 🧪 Lab 1: Stack Using Array (303105202)\n",
        "\n",
        "## 🎯 Objective:\n",
        "Implement Stack and its operations like:\n",
        "- `push`\n",
        "- `pop`\n",
        "- `peek`\n",
        "- `traverse`\n",
        "- `search`\n",
        "\n",
        "✅ Using a **linear array** as per BTech syllabus  \n",
        "🛠️ Languages: Python (runs here), C (via GCC), C++(via G++)"
      ],
      "metadata": {
        "id": "jdJX7GNhyi3g"
      }
    },
    {
      "cell_type": "markdown",
      "source": [
        "## C++"
      ],
      "metadata": {
        "id": "mQm_pFdutXwt"
      }
    },
    {
      "cell_type": "code",
      "source": [
        "%%writefile lab1_stack_cpp.cpp\n",
        "#include <iostream>\n",
        "using namespace std;\n",
        "\n",
        "class Stack {\n",
        "    int* arr;\n",
        "    int top;\n",
        "    int capacity;\n",
        "\n",
        "public:\n",
        "    Stack(int size) {\n",
        "        capacity = size;\n",
        "        arr = new int[capacity];\n",
        "        top = -1;\n",
        "    }\n",
        "\n",
        "    void push(int value) {\n",
        "        if (top == capacity - 1) {\n",
        "            cout << \"Stack Overflow\" << endl;\n",
        "            return;\n",
        "        }\n",
        "        arr[++top] = value;\n",
        "        cout << \"Pushed: \" << value << endl;\n",
        "    }\n",
        "\n",
        "    void pop() {\n",
        "        if (top == -1) {\n",
        "            cout << \"Stack Underflow\" << endl;\n",
        "            return;\n",
        "        }\n",
        "        cout << \"Popped: \" << arr[top--] << endl;\n",
        "    }\n",
        "\n",
        "    void peek() {\n",
        "        if (top == -1) {\n",
        "            cout << \"Stack is empty\" << endl;\n",
        "        } else {\n",
        "            cout << \"Top element: \" << arr[top] << endl;\n",
        "        }\n",
        "    }\n",
        "\n",
        "    void traverse() {\n",
        "        if (top == -1) {\n",
        "            cout << \"Stack is empty\" << endl;\n",
        "            return;\n",
        "        }\n",
        "        cout << \"Stack elements: \";\n",
        "        for (int i = top; i >= 0; i--)\n",
        "            cout << arr[i] << \" \";\n",
        "        cout << endl;\n",
        "    }\n",
        "\n",
        "    void search(int value) {\n",
        "        for (int i = top; i >= 0; i--) {\n",
        "            if (arr[i] == value) {\n",
        "                cout << \"Found at position: \" << (top - i) << endl;\n",
        "                return;\n",
        "            }\n",
        "        }\n",
        "        cout << \"Element not found\" << endl;\n",
        "    }\n",
        "\n",
        "    ~Stack() {\n",
        "        delete[] arr;\n",
        "    }\n",
        "};\n",
        "\n",
        "int main() {\n",
        "    int size;\n",
        "    cout << \"Enter stack size: \";\n",
        "    cin >> size;\n",
        "\n",
        "    Stack s(size);\n",
        "    s.push(10);\n",
        "    s.push(20);\n",
        "    s.push(30);\n",
        "    s.peek();\n",
        "    s.traverse();\n",
        "    s.search(20);\n",
        "    s.pop();\n",
        "    s.traverse();\n",
        "\n",
        "    return 0;\n",
        "}\n",
        "\n"
      ],
      "metadata": {
        "id": "-za3EPkcrTPn",
        "outputId": "684098ef-fc5f-4040-c247-88c89b9c2809",
        "colab": {
          "base_uri": "https://localhost:8080/"
        }
      },
      "execution_count": null,
      "outputs": [
        {
          "output_type": "stream",
          "name": "stdout",
          "text": [
            "Overwriting lab1_stack_cpp.cpp\n"
          ]
        }
      ]
    },
    {
      "cell_type": "code",
      "source": [
        "!g++ lab1_stack_cpp.cpp -o lab1_stack_cpp && ./lab1_stack_cpp"
      ],
      "metadata": {
        "id": "DXtpx6E3sPnx",
        "outputId": "5bcaa271-9d67-406d-ec15-58c0522c8d5e",
        "colab": {
          "base_uri": "https://localhost:8080/"
        }
      },
      "execution_count": null,
      "outputs": [
        {
          "output_type": "stream",
          "name": "stdout",
          "text": [
            "Enter stack size: 3\n",
            "Pushed: 10\n",
            "Pushed: 20\n",
            "Pushed: 30\n",
            "Top element: 30\n",
            "Stack elements: 30 20 10 \n",
            "Found at position: 1\n",
            "Popped: 30\n",
            "Stack elements: 20 10 \n"
          ]
        }
      ]
    },
    {
      "cell_type": "markdown",
      "source": [
        "## Python"
      ],
      "metadata": {
        "id": "HXw7U1RGtd64"
      }
    },
    {
      "cell_type": "code",
      "execution_count": null,
      "metadata": {
        "id": "wrONv57JyhIE"
      },
      "outputs": [],
      "source": [
        "\n",
        "# ✅ Python Implementation of Stack using List (Array)\n",
        "\n",
        "stack = []\n",
        "\n",
        "def push(value):\n",
        "    stack.append(value)\n",
        "\n",
        "def pop():\n",
        "    if not stack:\n",
        "        print(\"Stack Underflow\")\n",
        "    else:\n",
        "        print(\"Popped:\", stack.pop())\n",
        "\n",
        "def peek():\n",
        "    if not stack:\n",
        "        print(\"Stack is Empty\")\n",
        "    else:\n",
        "        print(\"Top Element:\", stack[-1])\n",
        "\n",
        "def traverse():\n",
        "    if not stack:\n",
        "        print(\"Stack is Empty\")\n",
        "    else:\n",
        "        print(\"Stack (Top to Bottom):\", stack[::-1])\n",
        "\n",
        "def search(value):\n",
        "    if value in stack:\n",
        "        pos = len(stack) - stack[::-1].index(value) - 1\n",
        "        print(f\"Found {value} at position {pos} from top\")\n",
        "    else:\n",
        "        print(f\"{value} not found in stack\")\n",
        "\n",
        "# 🔍 Test\n",
        "push(10)\n",
        "push(20)\n",
        "push(30)\n",
        "traverse()\n",
        "peek()\n",
        "search(20)\n",
        "pop()\n",
        "traverse()"
      ]
    },
    {
      "cell_type": "markdown",
      "source": [
        "---\n",
        "\n",
        "## 💻 Now Let’s Run the Same Logic in C\n",
        "\n",
        "Google Colab allows us to:\n",
        "1. Write C code to a file\n",
        "2. Compile it with `gcc`\n",
        "3. Execute it and see the output directly\n",
        "\n",
        "Let’s go!"
      ],
      "metadata": {
        "id": "bGWnfRVczHgu"
      }
    },
    {
      "cell_type": "code",
      "source": [
        "\n",
        "# Write the C program into a file\n",
        "c_code = \"\"\"\n",
        "#include <stdio.h>\n",
        "#define SIZE 100\n",
        "\n",
        "int stack[SIZE];\n",
        "int top = -1;\n",
        "\n",
        "void push(int value) {\n",
        "    if (top == SIZE - 1)\n",
        "        printf(\"Stack Overflow\\\\n\");\n",
        "    else\n",
        "        stack[++top] = value;\n",
        "}\n",
        "\n",
        "void pop() {\n",
        "    if (top == -1)\n",
        "        printf(\"Stack Underflow\\\\n\");\n",
        "    else\n",
        "        printf(\"Popped: %d\\\\n\", stack[top--]);\n",
        "}\n",
        "\n",
        "void peek() {\n",
        "    if (top == -1)\n",
        "        printf(\"Stack is Empty\\\\n\");\n",
        "    else\n",
        "        printf(\"Top Element: %d\\\\n\", stack[top]);\n",
        "}\n",
        "\n",
        "void traverse() {\n",
        "    if (top == -1)\n",
        "        printf(\"Stack is Empty\\\\n\");\n",
        "    else {\n",
        "        printf(\"Stack: \");\n",
        "        for (int i = top; i >= 0; i--)\n",
        "            printf(\"%d \", stack[i]);\n",
        "        printf(\"\\\\n\");\n",
        "    }\n",
        "}\n",
        "\n",
        "void search(int value) {\n",
        "    for (int i = top; i >= 0; i--) {\n",
        "        if (stack[i] == value) {\n",
        "            printf(\"Found %d at position %d from top\\\\n\", value, top - i);\n",
        "            return;\n",
        "        }\n",
        "    }\n",
        "    printf(\"%d not found in stack\\\\n\", value);\n",
        "}\n",
        "\n",
        "int main() {\n",
        "    push(10);\n",
        "    push(20);\n",
        "    push(30);\n",
        "    traverse();\n",
        "    peek();\n",
        "    search(20);\n",
        "    pop();\n",
        "    traverse();\n",
        "    return 0;\n",
        "}\n",
        "\"\"\"\n",
        "\n",
        "with open(\"stack_lab1.c\", \"w\") as f:\n",
        "    f.write(c_code)"
      ],
      "metadata": {
        "id": "8U5XW1_MzQ7h"
      },
      "execution_count": null,
      "outputs": []
    },
    {
      "cell_type": "code",
      "source": [
        "# Compile the C program\n",
        "!gcc stack_lab1.c -o stack_lab1"
      ],
      "metadata": {
        "id": "peml3SpSzZBB"
      },
      "execution_count": null,
      "outputs": []
    },
    {
      "cell_type": "code",
      "source": [
        "# Run the compiled C executable\n",
        "!./stack_lab1"
      ],
      "metadata": {
        "id": "zEWLJ5g3zcpB"
      },
      "execution_count": null,
      "outputs": []
    }
  ]
}